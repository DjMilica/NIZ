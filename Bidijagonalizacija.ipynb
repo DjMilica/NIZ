{
 "cells": [
  {
   "cell_type": "code",
   "execution_count": 179,
   "metadata": {
    "collapsed": true
   },
   "outputs": [],
   "source": [
    "import numpy as np\n",
    "import numpy.linalg as nla\n",
    "import copy\n",
    "from scipy import linalg as la"
   ]
  },
  {
   "cell_type": "markdown",
   "metadata": {},
   "source": [
    "function H = householder(b, k)\n",
    "% H = householder(b, k)\n",
    "% more comments\n",
    "% your name and the date\n",
    "n = length(b);\n",
    "d[:,1] = b[k:n];\n",
    "if d(1)>=0\n",
    "alpha = -norm(d);\n",
    "else\n",
    "alpha = norm(d);\n",
    "end"
   ]
  },
  {
   "cell_type": "code",
   "execution_count": 213,
   "metadata": {
    "collapsed": false
   },
   "outputs": [],
   "source": [
    "def householder(b,k):\n",
    "    n = b.size\n",
    "    d = np.ones((n-k,1))\n",
    "    d[:,0] = b[k:n]  # pravi po jedan element [[bk], [b4], [bn]]\n",
    "    if d[0] >= 0:\n",
    "        alpha = - nla.norm(d)\n",
    "    else:\n",
    "        alpha =  nla.norm(d)\n",
    "    if alpha == 0:\n",
    "        H = np.eye(n)\n",
    "        return H\n",
    "    else:\n",
    "        v_1 = np.sqrt(0.5 * (1 - (d[0]/alpha)))\n",
    "        p = -(alpha*v_1)\n",
    "        v = np.ones((n-k,1))\n",
    "        v[1:,0] = d[1:,0] / 2*p\n",
    "        W = np.zeros(n)\n",
    "        W = np.vstack(W)\n",
    "        W[k:,0] = v[:,0]\n",
    "        I = np.ones((n,n))\n",
    "        H =I -  2*np.dot(W,W.T)\n",
    "    return H"
   ]
  },
  {
   "cell_type": "markdown",
   "metadata": {},
   "source": [
    "function [U,B,V]=bidiag_reduction(A)\n",
    "% [U B V]=bidiag_reduction(A)\n",
    "% Algorithm 6.5-1 in Golub & Van Loan, Matrix Computations\n",
    "% Johns Hopkins University Press\n",
    "% Finds an upper bidiagonal matrix B so that A=U*B*V’\n",
    "% with U,V orthogonal. A is an m x n matrix\n",
    "[m,n]=size(A);\n",
    "B=A;\n",
    "U=eye(m);\n",
    "V=eye(n);\n",
    "for k=1:n\n",
    "% eliminate non-zeros below the diagonal\n",
    "H=householder(B(:,k),k);\n",
    "B=H*B;\n",
    "U=U*H’;\n",
    "% eliminate non-zeros to the right of the\n",
    "% superdiagonal by working with the transpose\n",
    "if k<n-1\n",
    "H=householder(B(k,:)’,k+1);\n",
    "B=B*H’;\n",
    "V=???\n",
    "end\n",
    "end"
   ]
  },
  {
   "cell_type": "code",
   "execution_count": 214,
   "metadata": {
    "collapsed": false
   },
   "outputs": [
    {
     "data": {
      "text/plain": [
       "array([[  1.00000000e+00,   1.00000000e+00,   1.00000000e+00,\n",
       "          1.00000000e+00,   1.00000000e+00,   1.00000000e+00,\n",
       "          1.00000000e+00,   1.00000000e+00,   1.00000000e+00,\n",
       "          1.00000000e+00],\n",
       "       [  1.00000000e+00,   1.00000000e+00,   1.00000000e+00,\n",
       "          1.00000000e+00,   1.00000000e+00,   1.00000000e+00,\n",
       "          1.00000000e+00,   1.00000000e+00,   1.00000000e+00,\n",
       "          1.00000000e+00],\n",
       "       [  1.00000000e+00,   1.00000000e+00,  -1.00000000e+00,\n",
       "         -8.73031140e+01,  -7.46883834e+01,  -6.20736529e+01,\n",
       "         -4.94589223e+01,  -3.68441917e+01,  -2.42294611e+01,\n",
       "         -1.16147306e+01],\n",
       "       [  1.00000000e+00,   1.00000000e+00,  -8.73031140e+01,\n",
       "         -3.89771997e+03,  -3.34075998e+03,  -2.78379998e+03,\n",
       "         -2.22683998e+03,  -1.66987999e+03,  -1.11291999e+03,\n",
       "         -5.55959996e+02],\n",
       "       [  1.00000000e+00,   1.00000000e+00,  -7.46883834e+01,\n",
       "         -3.34075998e+03,  -2.86336569e+03,  -2.38597141e+03,\n",
       "         -1.90857713e+03,  -1.43118285e+03,  -9.53788565e+02,\n",
       "         -4.76394282e+02],\n",
       "       [  1.00000000e+00,   1.00000000e+00,  -6.20736529e+01,\n",
       "         -2.78379998e+03,  -2.38597141e+03,  -1.98814284e+03,\n",
       "         -1.59031427e+03,  -1.19248571e+03,  -7.94657137e+02,\n",
       "         -3.96828569e+02],\n",
       "       [  1.00000000e+00,   1.00000000e+00,  -4.94589223e+01,\n",
       "         -2.22683998e+03,  -1.90857713e+03,  -1.59031427e+03,\n",
       "         -1.27205142e+03,  -9.53788565e+02,  -6.35525710e+02,\n",
       "         -3.17262855e+02],\n",
       "       [  1.00000000e+00,   1.00000000e+00,  -3.68441917e+01,\n",
       "         -1.66987999e+03,  -1.43118285e+03,  -1.19248571e+03,\n",
       "         -9.53788565e+02,  -7.15091423e+02,  -4.76394282e+02,\n",
       "         -2.37697141e+02],\n",
       "       [  1.00000000e+00,   1.00000000e+00,  -2.42294611e+01,\n",
       "         -1.11291999e+03,  -9.53788565e+02,  -7.94657137e+02,\n",
       "         -6.35525710e+02,  -4.76394282e+02,  -3.17262855e+02,\n",
       "         -1.58131427e+02],\n",
       "       [  1.00000000e+00,   1.00000000e+00,  -1.16147306e+01,\n",
       "         -5.55959996e+02,  -4.76394282e+02,  -3.96828569e+02,\n",
       "         -3.17262855e+02,  -2.37697141e+02,  -1.58131427e+02,\n",
       "         -7.85657137e+01]])"
      ]
     },
     "execution_count": 214,
     "metadata": {},
     "output_type": "execute_result"
    }
   ],
   "source": [
    "b = np.array([10,9,8,7,6,5,4,3,2,1])\n",
    "k = 2\n",
    "H = householder(b,k)\n",
    "H"
   ]
  },
  {
   "cell_type": "code",
   "execution_count": 218,
   "metadata": {
    "collapsed": false
   },
   "outputs": [],
   "source": [
    "def SVD(m,n,A):\n",
    "    #1\n",
    "    B = np.array(copy.copy(A)) #B = A\n",
    "    #2\n",
    "    U = np.eye(m) # U = I mxn\n",
    "    #3\n",
    "    V = np.eye(n) #V = I nxn\n",
    "    #4\n",
    "    for k in range(n):\n",
    "       \n",
    "        H=householder(B[:,k],k)\n",
    "        B = np.dot(H,B)\n",
    "        U = np.dot(U,H.T)\n",
    "        if k < (n-1):\n",
    "            B_t =  B[k,:].T\n",
    "            H = householder(B_t,k+1)\n",
    "            P = H.T\n",
    "            B = np.dot(B,P)\n",
    "            V = np.dot(P,V)\n",
    "    return B, U, V\n"
   ]
  },
  {
   "cell_type": "code",
   "execution_count": 219,
   "metadata": {
    "collapsed": false
   },
   "outputs": [
    {
     "name": "stdout",
     "output_type": "stream",
     "text": [
      "B:\n",
      " [[ -5.48273107e+52  -5.48273107e+52   5.48266333e+52]\n",
      " [ -5.48273107e+52  -5.48273107e+52   5.48266333e+52]\n",
      " [  5.48273107e+52   5.48273107e+52  -5.48266333e+52]]\n",
      "U:\n",
      " [[  3.82085772e+39   3.82085772e+39  -3.82085772e+39]\n",
      " [  4.75477730e+40   4.75477730e+40  -4.75477730e+40]\n",
      " [  8.32774635e+40   8.32774635e+40  -8.32774635e+40]]\n",
      "V:\n",
      " [[  3.00000000e+00  -3.23737220e+05  -5.24035413e+10]\n",
      " [  3.00000000e+00  -3.23737220e+05  -5.24035413e+10]\n",
      " [  1.00000000e+00   3.23737220e+05   5.24028938e+10]]\n",
      "jednak upit: False\n"
     ]
    }
   ],
   "source": [
    "A = [[1 ,2,3],\n",
    "       [4 ,5,6],\n",
    "       [7 ,8,9]]\n",
    "B, U, V = SVD(3,3,A)\n",
    "print (\"B:\\n\" , B)\n",
    "print (\"U:\\n\" , U)\n",
    "print (\"V:\\n\" , V)\n",
    "print (\"jednak upit:\", np.allclose(U.dot(B).dot(V), A))"
   ]
  },
  {
   "cell_type": "code",
   "execution_count": null,
   "metadata": {
    "collapsed": false
   },
   "outputs": [],
   "source": []
  },
  {
   "cell_type": "code",
   "execution_count": null,
   "metadata": {
    "collapsed": false
   },
   "outputs": [],
   "source": []
  },
  {
   "cell_type": "code",
   "execution_count": null,
   "metadata": {
    "collapsed": true
   },
   "outputs": [],
   "source": []
  }
 ],
 "metadata": {
  "kernelspec": {
   "display_name": "Python 3",
   "language": "python",
   "name": "python3"
  },
  "language_info": {
   "codemirror_mode": {
    "name": "ipython",
    "version": 3
   },
   "file_extension": ".py",
   "mimetype": "text/x-python",
   "name": "python",
   "nbconvert_exporter": "python",
   "pygments_lexer": "ipython3",
   "version": "3.6.0"
  }
 },
 "nbformat": 4,
 "nbformat_minor": 2
}
