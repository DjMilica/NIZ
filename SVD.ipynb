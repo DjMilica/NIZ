{
 "cells": [
  {
   "cell_type": "markdown",
   "metadata": {},
   "source": [
    "#                              Algoritmi za računanje SVD dekompozicije\n"
   ]
  },
  {
   "cell_type": "markdown",
   "metadata": {},
   "source": [
    "U rešavanju problema linearne algebre, dekompozicija matrice predstavlja važnu ulogu. Jedna od poznatijih dekompozicija je <b>singularna dekompozicija</b> (skraćeno, SVD), čijim izračunavanjem smo se bavili u našem radu i prikazali dva algoritma za efikasno izračunavanje ove dekompozicije. \n",
    "\n",
    "Za datu matricu A, dimenzije $mxn$, singularna dekompozicija matrice A je $$ A =  UΣV^T $$\n",
    "Matrica U je ortogonalna i za nju važi da je dimenzije $mxm$. Matrica V je takođe ortogonalna i dimenzija je $nxn$. Matrica Σ je dimenzija $mxn$ i ima nenegativne elemente na glavnoj dijagonali, dok su ostali elementi te matrice nule.\n",
    "Dijagonalni elementi matrice Σ se nazivaju <b>singularnim vrednostima matrice A</b> i broj singularnih vrednosti koje su nenula predstavlja rang matrice A. Važi da su singularne vrednosti jednake kvadratnim korenima sopstvenih vrednosti matrica $A^TA$ i $AA^T$. Kolone matrice U predstavljaju <i>leve singularne vektore</i> matrice A, odnosno sopstvene vektore matrice $AA^T$, dok kolone matrice V predstavljaju <i>desne singularne vektore</i>, odnosno sopstvene vektore matrice $A^TA$. Matrica Σ ima $m-n$ vrsta koje se sastoje samo iz nula, pa je moguće i drugačije razložiti matricu A : $$ A =  U'Σ'V^T $$\n",
    "pri čemu važi da je U' dimenzija $mxn$, Σ' dimenzija $nxn$.\n",
    "\n",
    "Prednosti SVD dekompozicije:\n",
    "- SVD dekompozicija je pogodna za korišćenje pri rešavanju sistema jednačina u slučaju matrica koje su bliske singularnim. \n",
    "- Izračunavanje singularne dekompozicije je numerički vrlo stabilno.\n",
    "- Pomoću SVD dekompozicije moguće je izvesti ortogonalizaciju skupa vektora.\n",
    "- Inverz matrice A se lako računa ukoliko je poznata njena SVD dekompozicija, s obzirom da su matrice U i V ortogonalne.\n",
    "\n"
   ]
  },
  {
   "cell_type": "markdown",
   "metadata": {},
   "source": [
    "\n",
    "Uopšteno, algoritmi za izračunavanje singularnih vrednosti su analogni algoritmima za izračunavanje sopstvenih vrednosti\n",
    "simetričnih matrica. \n",
    "Oba algoritma pretpostavljaju da je  $m ≥ n$, a ukoliko je $m < n$, može se računati SVD dekompozicija matrice $A^T$. Da bi se izbegla nepotrebna komplikacija, takođe algoritmi će biti predstavljeni na realnim matricama. "
   ]
  },
  {
   "cell_type": "markdown",
   "metadata": {},
   "source": [
    "# Implementacija prvog algoritma"
   ]
  },
  {
   "cell_type": "markdown",
   "metadata": {},
   "source": [
    "Prvi algoritam koji smo impelementirali se naziva Biorthogonalizacija SVD, a takođe je poznat pod nazivom <b>jednosmerna Jakobijeva metoda za SVD </b> (eng. One-sided Jacobi method for SVD). \n",
    "Kao ulaz prima $m$, $n$, A gde je A $m x n$.\n",
    "Izlaz predstavljaju matrice U, Σ, V gde je Σ dijagonalna matrica, U and V imaju ortonormirane kolone i U je reda $m × n$, a V je reda $n × n$. Važi da je $$ A = UΣV^T $$.\n",
    "\n",
    "Algoritam implicitno racuna vrednost $A^TA$, a zatim koristi Jakobijeve rotacije da napravi dijagonalnu matricu. Jakobijeva rotacija jeste 2x2 matrica koja dijagonalizuje simetričnu $2x2$ matricu. Treba pronaći ugao rotacije θ i matricu rotacije $Θ = \\begin{bmatrix}cosθ  & -sinθ \\\\sinθ  & cosθ \\end{bmatrix}$ za datu matricu $A^TA = \\begin{bmatrix}α & γ\\\\γ & β\\end{bmatrix}$ tako da važi $Θ^TA^TAΘ = D$ gde je D dijagonalna matrica. Ako definišemo $τ = (β − α) / 2γ $ i $t = sinθ/cosθ$, nailazimo na kvadratnu jednačinu $t^2 + 2τt − 1 = 0$. Iz ove kvadratne jednačine uzimamo rešenje $t$ koje je manje po apsolutnoj vrednosti i koristeći jednakosti $t = sinθ/cosθ$ i $sinθ^2+cosθ^2=1$, dolazimo do potrebnih vrednosti $cosθ =1/sqrt(1 + t^2)$ i $sinθ = c*t$. Ovo je dovoljno, nema potrebe da se računa vrednost samog θ.\n",
    "\n",
    "Algoritam prolazi kroz implicitno konstruisanu matricu $A^TA$, bira i i j, zatim računa 2x2 matricu koju Jakobijevom rotacijom dijagonalizuje. Postupak se ponavlja do konvergencije. U matrici V se nalazi akumulacija svih rotacija kolona. Kada dođemo do kraja algoritma, matrica Σ jeste implicitno generisana. Singularne vrednosti predstavljaju norme kolona rezultujuće matrice U, a leve singularne vektore računamo kao normalizovane kolone rezultujućeg U. \n",
    "\n",
    "Algoritam ne vraća sortirane singularne vrednosti. Kada bi se one sortirale, trebalo bi permutovati odgovarajuće kolone matrica U i V."
   ]
  },
  {
   "cell_type": "code",
   "execution_count": 9,
   "metadata": {},
   "outputs": [],
   "source": [
    "import copy\n",
    "import numpy as np\n",
    "from scipy import linalg as la\n",
    "\n",
    "def SVD(A, m, n, eps = 1.e-4):\n",
    "    # 1. korak, U = A\n",
    "    U = np.array(copy.copy(A))\n",
    "    # 2. korak, V = I(nxn)\n",
    "    V = np.eye(n) \n",
    "    # 3. korak, izračunamo N^2 = M, s = 0, first = true\n",
    "    M = 0\n",
    "    s = 0\n",
    "    first = True\n",
    "    for i in range(m):\n",
    "        for j in range(n):\n",
    "            M += U[i][j] * U[i][j]\n",
    "\n",
    "    # korak 4\n",
    "    a = 0\n",
    "    b = 0\n",
    "    c = 0\n",
    "    error = 1\n",
    "    while np.sqrt(s) > eps*eps*M or first == True:\n",
    "        # 4.a\n",
    "        s = 0\n",
    "        first = False\n",
    "        \n",
    "        # 4.b\n",
    "        for i in range(n-1):\n",
    "            for j in range(i+1, n):\n",
    "                squaresum = 0\n",
    "                a = 0\n",
    "                b = 0\n",
    "                c = 0\n",
    "                # izračunamo c,s,d1,d2\n",
    "                for k in range(m):\n",
    "                    squaresum += U[k][i]*U[k][j]\n",
    "                    a += U[k][i]*U[k][i]\n",
    "                    b += U[k][j]*U[k][j]\n",
    "                    c += U[k][i]*U[k][j]\n",
    "                s += squaresum * squaresum\n",
    "\n",
    "                # Jacobijeva rotacija\n",
    "                tau = ((b - a)* 1.0) / (2*c)\n",
    "                t = np.sign(tau) * 1.0/(np.abs(tau) + np.sqrt(1 + tau*tau))\n",
    "                cs = 1.0/np.sqrt(1 + t*t)\n",
    "                sn = cs*t\n",
    "                \n",
    "                # apdejtujemo kolone i and j matrice U\n",
    "                for k in range(m):\n",
    "                    tmp = U[k][i]\n",
    "                    U[k][i] = cs*tmp - sn*U[k][j]\n",
    "                    U[k][j] = sn*tmp + cs*U[k][j]\n",
    "                    \n",
    "                # apdejtujemo matricu V\n",
    "                for k in range(n):\n",
    "                    tmp = V[k][i]\n",
    "                    V[k][i] = cs*tmp - sn*V[k][j]\n",
    "                    V[k][j] = sn*tmp + cs*V[k][j]\n",
    "                \n",
    "    # korak 5\n",
    "    b = np.zeros(n)\n",
    "    for i in range(n):\n",
    "        b[i] = np.linalg.norm(U[:,i])\n",
    "        for k in range(m):\n",
    "            U[k][i] = U[k][i] / b[i]\n",
    "\n",
    "    E = np.diag(b)\n",
    "    \n",
    "    \n",
    "    print(\"Matrica U:\")\n",
    "    print(U)\n",
    "    print(\"Matrica E:\")\n",
    "    print(E)\n",
    "    print(\"Matrica V.T:\")\n",
    "    print(V.T)\n",
    "    \n",
    "    print(\"Matrica A:\")\n",
    "    print(np.dot(U, np.dot(E, V.T)))"
   ]
  },
  {
   "cell_type": "markdown",
   "metadata": {},
   "source": [
    "# Primeri"
   ]
  },
  {
   "cell_type": "code",
   "execution_count": 8,
   "metadata": {},
   "outputs": [
    {
     "name": "stdout",
     "output_type": "stream",
     "text": [
      "Izlaz ugradjene funkcije je:\n",
      "\n",
      "Matrica U:\n",
      "[[-2.00416656e-01  1.64922791e-01  9.46812646e-01]\n",
      " [-4.86189124e-01  4.93693633e-01 -3.18829561e-01]\n",
      " [-7.92156024e-01 -1.08891970e-02 -4.35050639e-02]\n",
      " [-3.09745271e-01 -8.53784806e-01 -9.12882764e-04]]\n",
      "Matrica S:\n",
      "[17.58269051  3.94408679  1.13717809]\n",
      "Matrica V:\n",
      "[[-0.50026161 -0.57814691 -0.64458085]\n",
      " [ 0.21541031  0.63792506 -0.73935784]\n",
      " [-0.83865173  0.5087217   0.19459061]]\n",
      "\n",
      "Izlaz implementirane funkcije je:\n",
      "\n",
      "Matrica U:\n",
      "[[-9.46812646e-01  2.00416656e-01 -1.64922791e-01]\n",
      " [ 3.18829561e-01  4.86189124e-01 -4.93693633e-01]\n",
      " [ 4.35050639e-02  7.92156024e-01  1.08891970e-02]\n",
      " [ 9.12882764e-04  3.09745271e-01  8.53784806e-01]]\n",
      "Matrica E:\n",
      "[[ 1.13717809  0.          0.        ]\n",
      " [ 0.         17.58269051  0.        ]\n",
      " [ 0.          0.          3.94408679]]\n",
      "Matrica V.T:\n",
      "[[ 0.83865173 -0.5087217  -0.19459061]\n",
      " [ 0.50026161  0.57814691  0.64458085]\n",
      " [-0.21541031 -0.63792506  0.73935784]]\n",
      "Matrica A:\n",
      "[[1. 3. 2.]\n",
      " [5. 6. 4.]\n",
      " [7. 8. 9.]\n",
      " [2. 1. 6.]]\n"
     ]
    }
   ],
   "source": [
    "A = [ [1.0 ,3.0,2.0],\n",
    "       [5.0 ,6.0,4.0],\n",
    "       [7.0 ,8.0,9.0],\n",
    "        [2.0,1.0,6.0]]\n",
    "U, S, V = la.svd(A, full_matrices = False)\n",
    "print(\"Izlaz ugradjene funkcije je:\")\n",
    "print()\n",
    "print(\"Matrica U:\")\n",
    "print(U)\n",
    "print(\"Matrica S:\")\n",
    "print(S)\n",
    "print(\"Matrica V:\")\n",
    "print(V)\n",
    "print()\n",
    "print(\"Izlaz implementirane funkcije je:\")\n",
    "print()\n",
    "SVD(A, 4, 3)"
   ]
  },
  {
   "cell_type": "code",
   "execution_count": 10,
   "metadata": {
    "collapsed": true
   },
   "outputs": [],
   "source": [
    "# jos par primera"
   ]
  },
  {
   "cell_type": "markdown",
   "metadata": {},
   "source": [
    "# Implementacija drugog algoritma"
   ]
  },
  {
   "cell_type": "markdown",
   "metadata": {},
   "source": [
    "Naziva se Jakobijeva rotacija SVD. Poznata je i kao <b>dvostrana Jakobijeva metoda za SVD</b>.\n",
    "Implementirali smo za simetrične matrice, ali modifikacija ovog algoritma radi i u slučajevima kada matrica nije simetrična. Algoritam koristi drugačiji kriterijum zaustavljanja od prethodnog i drugačije konstruiše 2x2 matricu na koju će biti primenjena Jakobijeva rotacija. \n",
    "\n"
   ]
  },
  {
   "cell_type": "code",
   "execution_count": 11,
   "metadata": {
    "collapsed": true
   },
   "outputs": [],
   "source": [
    "def SVD(A, m, n, eps = 1.e-4):\n",
    "    # 1. korak, B = A\n",
    "    B = np.array(copy.copy(A))\n",
    "    # 2. korak, U = I(mxn)\n",
    "    U = np.eye(m,n) \n",
    "    # 3. korak, V + I(nxn)\n",
    "    V = np.eye(n)\n",
    "    \n",
    "    # 4. korak, izračunava se N^2 = M, s = 0, first = true\n",
    "    M = 0\n",
    "    s = 0\n",
    "    first = True\n",
    "    for i in range(m):\n",
    "        for j in range(n):\n",
    "            M += B[i][j] * B[i][j]\n",
    "\n",
    "    # korak 5\n",
    "    a = 0\n",
    "    b = 0\n",
    "    c = 0\n",
    "    error = 1\n",
    "    while np.sqrt(s) > eps*eps*M or first == True:\n",
    "        s = 0\n",
    "        first = False\n",
    "        \n",
    "        for i in range(n-1):\n",
    "            for j in range(i+1, n):\n",
    "                s = s + B[i][j]*B[i][j] + B[j][i]*B[j][i]\n",
    "                # izračunavanje c,s,d1,d2\n",
    "                a = B[i][i]\n",
    "                b = B[j][j]\n",
    "                c = B[i][j]\n",
    "\n",
    "                # Jakobijeva rotacija\n",
    "                tau = ((b - a)* 1.0) / (2*c)\n",
    "                t = np.sign(tau) * 1.0/(np.abs(tau) + np.sqrt(1 + tau*tau))\n",
    "                cs = 1.0/np.sqrt(1 + t*t)\n",
    "                sn = cs*t\n",
    "                \n",
    "                # apdejtujemo  2 po 2 podmatrice \n",
    "                B[i][i] = a - c*t\n",
    "                B[j][j] = b + c*t\n",
    "                B[i][j] = 0\n",
    "                B[j][i] = 0\n",
    "                \n",
    "                # apdejtujemo ostatak i i j kolona\n",
    "                for k in range(n):\n",
    "                    if k != i and k != j:\n",
    "                        tmp = B[i][k]\n",
    "                        B[i][k] = cs*tmp - sn*B[j][k]\n",
    "                        B[j][k] = sn*tmp + cs*B[j][k]\n",
    "                        B[k][i] = B[i][k]\n",
    "                        B[k][j] = B[j][k]\n",
    "                # apdejtujemo sopstveni vektor matrice V\n",
    "                for k in range(n):\n",
    "                    tmp = V[k][i]\n",
    "                    V[k][i] = cs*tmp - sn*V[k][j]\n",
    "                    V[k][j] = sn*tmp + cs*V[k][j]\n",
    "                    \n",
    "                #  apdejtujemo sopstveni vektor matrice U\n",
    "                for k in range(n):\n",
    "                    tmp = U[k][i]\n",
    "                    U[k][i] = cs*tmp - sn*U[k][j]\n",
    "                    U[k][j] = sn*tmp + cs*U[k][j]\n",
    "                \n",
    "    # korak 5\n",
    "    s = np.diag(B)\n",
    "    S = np.eye(n)\n",
    "    for i in range(n):\n",
    "        S[i][i] = np.abs(s[i])\n",
    "        if s[i] < 0:\n",
    "            U[:,i] = -1*U[:,i]\n",
    "    \n",
    "    print(\"U je:\")\n",
    "    print(U)\n",
    "    print(\"S je\")\n",
    "    print(S)\n",
    "    print(\"V je:\")\n",
    "    print(V.T)\n",
    "    \n",
    "    print(\"A je:\")\n",
    "    print(np.dot(U, np.dot(S, V.T)))\n",
    "    "
   ]
  },
  {
   "cell_type": "markdown",
   "metadata": {},
   "source": [
    "# Primeri "
   ]
  },
  {
   "cell_type": "code",
   "execution_count": 12,
   "metadata": {},
   "outputs": [
    {
     "name": "stdout",
     "output_type": "stream",
     "text": [
      "[[-0.48441546  0.87476581 -0.01124407]\n",
      " [-0.50196102 -0.28844953 -0.81537231]\n",
      " [-0.71650317 -0.38933487  0.57882775]]\n",
      "[ 16.53486179   3.76423709   3.2293753 ]\n",
      "[[-0.48441546 -0.50196102 -0.71650317]\n",
      " [-0.87476581  0.28844953  0.38933487]\n",
      " [-0.01124407 -0.81537231  0.57882775]]\n",
      "U je:\n",
      "[[-0.87476581  0.01124407  0.48441546]\n",
      " [ 0.28844953  0.81537231  0.50196102]\n",
      " [ 0.38933487 -0.57882775  0.71650317]]\n",
      "S je\n",
      "[[  3.76423709   0.           0.        ]\n",
      " [  0.           3.2293753    0.        ]\n",
      " [  0.           0.          16.53486179]]\n",
      "V je:\n",
      "[[ 0.87476581 -0.28844953 -0.38933487]\n",
      " [ 0.01124407  0.81537231 -0.57882775]\n",
      " [ 0.48441546  0.50196102  0.71650317]]\n",
      "A je:\n",
      "[[ 1.  5.  7.]\n",
      " [ 5.  6.  4.]\n",
      " [ 7.  4.  9.]]\n"
     ]
    }
   ],
   "source": [
    "A = [ [1.0 ,5.0,7.0],\n",
    "      [5.0 ,6.0,4.0],\n",
    "      [7.0 ,4.0,9.0]]\n",
    "U, S, V = la.svd(A)\n",
    "print(U)\n",
    "print(S)\n",
    "print(V)\n",
    "   \n",
    "SVD(A,3,3)"
   ]
  },
  {
   "cell_type": "code",
   "execution_count": null,
   "metadata": {
    "collapsed": true
   },
   "outputs": [],
   "source": [
    "#Jos primera "
   ]
  }
 ],
 "metadata": {
  "kernelspec": {
   "display_name": "Python 3",
   "language": "python",
   "name": "python3"
  },
  "language_info": {
   "codemirror_mode": {
    "name": "ipython",
    "version": 3
   },
   "file_extension": ".py",
   "mimetype": "text/x-python",
   "name": "python",
   "nbconvert_exporter": "python",
   "pygments_lexer": "ipython3",
   "version": "3.6.4"
  }
 },
 "nbformat": 4,
 "nbformat_minor": 2
}
